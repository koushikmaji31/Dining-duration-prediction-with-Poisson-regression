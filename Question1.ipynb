{
 "cells": [
  {
   "cell_type": "code",
   "execution_count": 1,
   "id": "1bc8473d",
   "metadata": {},
   "outputs": [],
   "source": [
    "# IMPORTING NECESSARY LIBRARIES\n",
    "import pandas as pd \n",
    "import numpy as np \n",
    "import matplotlib.pyplot as plt\n",
    "import warnings\n",
    "import seaborn as sns\n",
    "\n",
    "# SUPRESS ALL WARNINGS\n",
    "warnings.filterwarnings('ignore')"
   ]
  },
  {
   "cell_type": "code",
   "execution_count": 2,
   "id": "12ac6e0f",
   "metadata": {},
   "outputs": [],
   "source": [
    "# IMPORTING OUR CSV FILE DIRECTLY FROM THE GOOGLE SHEET IN WHICH WE RECORDED OUR DATA\n",
    "# SHEET LINK : https://docs.google.com/spreadsheets/d/1pftXBcsgMNHwQyMagbknVgnZ4JqYadUDP2KWW8-dBuc/edit#gid=1560113834\n",
    "\n",
    "sheetid = \"1pftXBcsgMNHwQyMagbknVgnZ4JqYadUDP2KWW8-dBuc\"\n",
    "df = pd.read_csv(f\"https://docs.google.com/spreadsheets/d/{sheetid}/export?format=csv\")"
   ]
  },
  {
   "cell_type": "code",
   "execution_count": 3,
   "id": "53ccbcfb",
   "metadata": {
    "scrolled": false
   },
   "outputs": [],
   "source": [
    "# CONVERTING TIME TO MINS FROM DATE AND HRS:MIN:SEC FORMAT OF TIMESTAMP\n",
    "\n",
    "df['Timestamp'] = pd.to_datetime(df['Timestamp'])\n",
    "df['Timefrommid'] = df['Timestamp'].dt.time"
   ]
  },
  {
   "cell_type": "markdown",
   "id": "941a6b08",
   "metadata": {},
   "source": [
    "## EXPLORATORY DATA ANALYSIS"
   ]
  },
  {
   "cell_type": "code",
   "execution_count": 4,
   "id": "2b50e247",
   "metadata": {},
   "outputs": [
    {
     "data": {
      "text/html": [
       "<div>\n",
       "<style scoped>\n",
       "    .dataframe tbody tr th:only-of-type {\n",
       "        vertical-align: middle;\n",
       "    }\n",
       "\n",
       "    .dataframe tbody tr th {\n",
       "        vertical-align: top;\n",
       "    }\n",
       "\n",
       "    .dataframe thead th {\n",
       "        text-align: right;\n",
       "    }\n",
       "</style>\n",
       "<table border=\"1\" class=\"dataframe\">\n",
       "  <thead>\n",
       "    <tr style=\"text-align: right;\">\n",
       "      <th></th>\n",
       "      <th>Timestamp</th>\n",
       "      <th>Day</th>\n",
       "      <th>Holiday</th>\n",
       "      <th>Meal_type</th>\n",
       "      <th>Extras</th>\n",
       "      <th>Veg</th>\n",
       "      <th>time_taken(mins)</th>\n",
       "      <th>person</th>\n",
       "      <th>week</th>\n",
       "      <th>Timefrommid</th>\n",
       "    </tr>\n",
       "  </thead>\n",
       "  <tbody>\n",
       "    <tr>\n",
       "      <th>0</th>\n",
       "      <td>2023-09-20 08:40:00</td>\n",
       "      <td>Wednesday</td>\n",
       "      <td>No</td>\n",
       "      <td>breakfast</td>\n",
       "      <td>No</td>\n",
       "      <td>Veg</td>\n",
       "      <td>18</td>\n",
       "      <td>koushik</td>\n",
       "      <td>1</td>\n",
       "      <td>08:40:00</td>\n",
       "    </tr>\n",
       "    <tr>\n",
       "      <th>1</th>\n",
       "      <td>2023-09-20 13:05:06</td>\n",
       "      <td>Wednesday</td>\n",
       "      <td>No</td>\n",
       "      <td>lunch</td>\n",
       "      <td>No</td>\n",
       "      <td>Veg</td>\n",
       "      <td>21</td>\n",
       "      <td>koushik</td>\n",
       "      <td>1</td>\n",
       "      <td>13:05:06</td>\n",
       "    </tr>\n",
       "    <tr>\n",
       "      <th>2</th>\n",
       "      <td>2023-09-20 21:52:06</td>\n",
       "      <td>Wednesday</td>\n",
       "      <td>No</td>\n",
       "      <td>dinner</td>\n",
       "      <td>No</td>\n",
       "      <td>Veg</td>\n",
       "      <td>16</td>\n",
       "      <td>koushik</td>\n",
       "      <td>1</td>\n",
       "      <td>21:52:06</td>\n",
       "    </tr>\n",
       "    <tr>\n",
       "      <th>3</th>\n",
       "      <td>2023-09-21 12:45:19</td>\n",
       "      <td>Thursday</td>\n",
       "      <td>No</td>\n",
       "      <td>breakfast</td>\n",
       "      <td>Yes</td>\n",
       "      <td>Veg</td>\n",
       "      <td>15</td>\n",
       "      <td>koushik</td>\n",
       "      <td>1</td>\n",
       "      <td>12:45:19</td>\n",
       "    </tr>\n",
       "    <tr>\n",
       "      <th>4</th>\n",
       "      <td>2023-09-21 12:59:54</td>\n",
       "      <td>Thursday</td>\n",
       "      <td>No</td>\n",
       "      <td>lunch</td>\n",
       "      <td>No</td>\n",
       "      <td>Veg</td>\n",
       "      <td>20</td>\n",
       "      <td>koushik</td>\n",
       "      <td>1</td>\n",
       "      <td>12:59:54</td>\n",
       "    </tr>\n",
       "  </tbody>\n",
       "</table>\n",
       "</div>"
      ],
      "text/plain": [
       "            Timestamp        Day Holiday  Meal_type Extras  Veg  \\\n",
       "0 2023-09-20 08:40:00  Wednesday      No  breakfast     No  Veg   \n",
       "1 2023-09-20 13:05:06  Wednesday      No      lunch     No  Veg   \n",
       "2 2023-09-20 21:52:06  Wednesday      No     dinner     No  Veg   \n",
       "3 2023-09-21 12:45:19   Thursday      No  breakfast    Yes  Veg   \n",
       "4 2023-09-21 12:59:54   Thursday      No      lunch     No  Veg   \n",
       "\n",
       "   time_taken(mins)   person  week Timefrommid  \n",
       "0                18  koushik     1    08:40:00  \n",
       "1                21  koushik     1    13:05:06  \n",
       "2                16  koushik     1    21:52:06  \n",
       "3                15  koushik     1    12:45:19  \n",
       "4                20  koushik     1    12:59:54  "
      ]
     },
     "execution_count": 4,
     "metadata": {},
     "output_type": "execute_result"
    }
   ],
   "source": [
    "df.head()"
   ]
  },
  {
   "cell_type": "code",
   "execution_count": 5,
   "id": "8910d2ce",
   "metadata": {
    "scrolled": false
   },
   "outputs": [
    {
     "data": {
      "image/png": "[encoded data removed]",
      "text/plain": [
       "<Figure size 432x288 with 1 Axes>"
      ]
     },
     "metadata": {
      "needs_background": "light"
     },
     "output_type": "display_data"
    }
   ],
   "source": [
    "# Grouping data frames by meal_type\n",
    "df['Time_minutesfrommid'] = df['Timefrommid'].apply(lambda x: x.hour * 60 + x.minute)\n",
    "groups = df.groupby('Meal_type')\n",
    "\n",
    "\n",
    "# Create a scatter plot for each group with different colors\n",
    "for name, group in groups:\n",
    "    plt.scatter(group['Time_minutesfrommid'], group['time_taken(mins)'], label=name)\n",
    "\n",
    "\n",
    "# Add labels and a legend\n",
    "plt.xlabel('Day time in minutes')\n",
    "plt.ylabel('time_taken(mins)')\n",
    "\n",
    "\n",
    "# Show the plot\n",
    "plt.show()\n"
   ]
  },
  {
   "cell_type": "markdown",
   "id": "1944fb2e",
   "metadata": {},
   "source": [
    "#### PLOTS FOR CHOOSING APPROPRIATE DISTRIBUTION"
   ]
  },
  {
   "cell_type": "code",
   "execution_count": 6,
   "id": "764a7306",
   "metadata": {},
   "outputs": [
    {
     "data": {
      "text/plain": [
       "<seaborn.axisgrid.FacetGrid at 0x1a092956b80>"
      ]
     },
     "execution_count": 6,
     "metadata": {},
     "output_type": "execute_result"
    },
    {
     "data": {
      "image/png": "[encoded data removed]",
      "text/plain": [
       "<Figure size 360x360 with 1 Axes>"
      ]
     },
     "metadata": {
      "needs_background": "light"
     },
     "output_type": "display_data"
    }
   ],
   "source": [
    "# Count in the below can be seen as frequency \n",
    "# frequency implying number of times we took that much time\n",
    "\n",
    "sns.displot(df, x=\"time_taken(mins)\", bins=15)"
   ]
  },
  {
   "cell_type": "code",
   "execution_count": 7,
   "id": "2af6a52d",
   "metadata": {},
   "outputs": [],
   "source": [
    "# This function takes time taken and meal type as arguments\n",
    "# And plots bar plot, time vs day for that mealtype for both weeks\n",
    "\n",
    "def bar_timetaken_vs_weekday(timel,type):\n",
    "    X = ['Wednesday', 'Thursday', 'Friday', 'Saturday', 'Sunday', 'Monday','Tuesday']\n",
    "    week1 = [timel[i] for i in range(7)]\n",
    "    week2 = [timel[i+7] for i in range(len(timel)-7)]\n",
    "    while(len(week2)<7):\n",
    "        week2.append(0)\n",
    "    x_axis = np.arange(len(X))\n",
    "    plt.bar(x_axis - 0.2,week1, 0.4, label = 'week1')\n",
    "    plt.bar(x_axis + 0.2,week2, 0.4, label = 'week2')\n",
    "    plt.xticks(x_axis,X,rotation='vertical')\n",
    "    plt.xlabel(\"Time taken for completing \"+type)\n",
    "    plt.legend()\n",
    "    plt.show()\n"
   ]
  },
  {
   "cell_type": "code",
   "execution_count": 8,
   "id": "b819e12e",
   "metadata": {},
   "outputs": [],
   "source": [
    "# This function prepares input arguments for above plotting function from our data\n",
    "\n",
    "def mealtype_timel(type):\n",
    "    df_type = df[df['Meal_type'] == type]\n",
    "    temptime = df_type['time_taken(mins)']\n",
    "    timel = list(temptime.values)\n",
    "    bar_timetaken_vs_weekday(timel,type)\n",
    "    \n",
    "    "
   ]
  },
  {
   "cell_type": "code",
   "execution_count": 9,
   "id": "3a56b8e0",
   "metadata": {},
   "outputs": [
    {
     "data": {
      "image/png": "[encoded data removed]",
      "text/plain": [
       "<Figure size 432x288 with 1 Axes>"
      ]
     },
     "metadata": {
      "needs_background": "light"
     },
     "output_type": "display_data"
    },
    {
     "data": {
      "image/png": "[encoded data removed]",
      "text/plain": [
       "<Figure size 432x288 with 1 Axes>"
      ]
     },
     "metadata": {
      "needs_background": "light"
     },
     "output_type": "display_data"
    },
    {
     "data": {
      "image/png": "[encoded data removed]",
      "text/plain": [
       "<Figure size 432x288 with 1 Axes>"
      ]
     },
     "metadata": {
      "needs_background": "light"
     },
     "output_type": "display_data"
    }
   ],
   "source": [
    "# Calling above function for different mealtypes to get the bar plots\n",
    "\n",
    "mealtype_timel(\"breakfast\")\n",
    "mealtype_timel(\"lunch\")\n",
    "mealtype_timel(\"dinner\")"
   ]
  },
  {
   "cell_type": "markdown",
   "id": "ee903153",
   "metadata": {},
   "source": [
    "## MODEL FITTING"
   ]
  },
  {
   "cell_type": "code",
   "execution_count": 10,
   "id": "301135dc",
   "metadata": {},
   "outputs": [],
   "source": [
    "# Creating a temporary data frame and we work on that,\n",
    "# in case we need our original data frame.\n",
    "\n",
    "pdf = df"
   ]
  },
  {
   "cell_type": "code",
   "execution_count": 11,
   "id": "ac18cd31",
   "metadata": {},
   "outputs": [],
   "source": [
    "# Libraries used for pre-processing purpose\n",
    "\n",
    "from sklearn import preprocessing\n",
    "from sklearn.linear_model import LogisticRegression\n",
    "from sklearn.model_selection import train_test_split"
   ]
  },
  {
   "cell_type": "code",
   "execution_count": 12,
   "id": "bd259091",
   "metadata": {
    "scrolled": false
   },
   "outputs": [],
   "source": [
    "# To convert non-numerical values to numerical values using label_encoder\n",
    "label_encoder = preprocessing.LabelEncoder() \n",
    "\n",
    "\n",
    "# Encode labels in column 'days'.\n",
    "pdf['Day']= label_encoder.fit_transform(pdf['Day'])\n",
    "pdf['Meal_type']= label_encoder.fit_transform(pdf['Meal_type'])\n",
    "pdf['Holiday']= label_encoder.fit_transform(pdf['Holiday'])\n",
    "pdf['Extras']= label_encoder.fit_transform(pdf['Extras'])\n",
    "pdf['Veg']= label_encoder.fit_transform(pdf['Veg'])\n",
    "pdf['time_taken(mins)']= label_encoder.fit_transform(pdf['time_taken(mins)'])"
   ]
  },
  {
   "cell_type": "code",
   "execution_count": 13,
   "id": "bd1bbb4d",
   "metadata": {},
   "outputs": [],
   "source": [
    "# This is the ratio in which we split our training and testing data,\n",
    "# So 80% training and 20% testing\n",
    "ratio = 0.80\n",
    "\n",
    "total_rows = pdf.shape[0]\n",
    "train_size = int(total_rows*ratio)\n",
    "\n",
    "\n",
    "# Split data into test and train\n",
    "train = pdf[0:train_size]\n",
    "test = pdf[train_size:]\n",
    "\n",
    "\n",
    "# Dividing dataset, by separating their features and labels\n",
    "# Here we choose first 80% of our data as training dataset and\n",
    "# remaining 20% of our data as testing data set. \n",
    "X_train, y_train = train[['Day',\t'Holiday',\t'Meal_type',\t'Extras',\t'Veg']].values, train['time_taken(mins)'].values\n",
    "X_test, y_test = test[['Day',\t'Holiday',\t'Meal_type',\t'Extras',\t'Veg']].values, test['time_taken(mins)'].values\n"
   ]
  },
  {
   "cell_type": "code",
   "execution_count": 14,
   "id": "ec4a404d",
   "metadata": {},
   "outputs": [],
   "source": [
    "# This function converts distribution of data in standard normal distribution\n",
    "def standard_scaler(X):\n",
    "    means = X.mean(0)\n",
    "    stds = X.std(0)\n",
    "    return (X - means)/stds"
   ]
  },
  {
   "cell_type": "markdown",
   "id": "5ffa2e29",
   "metadata": {},
   "source": [
    "#### Model selection\n",
    " Assume that time taken for finishing the meal (T) is a random variable, from the plot of count vs time taken in mins we can infer that T is following possion distribution. log (lambda) in poisson regression can be modeled as linear combination of features (input). \n",
    " Now we use gradient descent algorithm, \n",
    " ##### beta_hats = beta_hats - (regularization constant)*(derivative of log likelihood with respect to beta's)\n",
    "\n"
   ]
  },
  {
   "cell_type": "code",
   "execution_count": 15,
   "id": "3a13c686",
   "metadata": {},
   "outputs": [],
   "source": [
    "class PoissonRegression:\n",
    "    \n",
    "    # n_iter is number of iterations\n",
    "    # lr is regularization constant\n",
    "    def fit(self, X, y, n_iter = 1000, lr = 0.0002, add_intercept = True, standardize = False):\n",
    "        \n",
    "        # Try to get data in standard normal form for better training\n",
    "        if standardize:\n",
    "            X = standard_scaler(X)\n",
    "\n",
    "        \n",
    "        # Appending ones column to make our model as W0 + W^(T)X, here W0 is our intercept\n",
    "        if add_intercept:\n",
    "            ones = np.ones(len(X)).reshape((len(X), 1))\n",
    "            X = np.append(ones, X, axis = 1)\n",
    "\n",
    "\n",
    "        self.X = X\n",
    "        self.y = y\n",
    "        \n",
    "\n",
    "        # Applying gradient decent to get the coeffiecients.\n",
    "        beta_hats = np.zeros(X.shape[1])\n",
    "        for i in range(n_iter):\n",
    "            y_hat = np.exp(np.dot(X, beta_hats))\n",
    "            dLdbeta = np.dot(X.T, y_hat - y)\n",
    "            beta_hats -= lr*dLdbeta\n",
    "\n",
    "\n",
    "        # beta_hats obtained here our the model parameters which were asked in question.\n",
    "        self.beta_hats = beta_hats\n",
    "        self.y_hat = y_hat\n",
    "    \n",
    "\n",
    "    # After we learned the model parameters, now we can use that model for prediction\n",
    "    # This function below will predict on the input data points.\n",
    "    def predict(self, X):\n",
    "        ones = np.ones(len(X)).reshape((len(X), 1))\n",
    "        X = np.append(ones, X, axis=1)\n",
    "\n",
    "        # Used beta_hats coefficients obtained to predict on a given input x\n",
    "        y_pred = np.exp(np.dot(X, self.beta_hats))\n",
    "        return y_pred\n",
    "\n",
    "    \n",
    "\n",
    "        "
   ]
  },
  {
   "cell_type": "markdown",
   "id": "ecb4360a",
   "metadata": {},
   "source": [
    "#### Model results and performance metrics"
   ]
  },
  {
   "cell_type": "code",
   "execution_count": 17,
   "id": "d441c174",
   "metadata": {},
   "outputs": [],
   "source": [
    "# model is the object of the PoissonRegression class we created\n",
    "model = PoissonRegression()\n",
    "\n",
    "# calling fit method of our PoissonRegression class\n",
    "model.fit(X_train, y_train,lr = .0002)\n",
    "\n",
    "# after fitting now we pedict using the prect method of our PoissonRegression class\n",
    "pred = model.predict(X_test)"
   ]
  },
  {
   "cell_type": "code",
   "execution_count": 22,
   "id": "8039637c",
   "metadata": {},
   "outputs": [
    {
     "name": "stdout",
     "output_type": "stream",
     "text": [
      "Actual time taken (test set) : [ 6 14 15  3  8 10  6  4  8]\n",
      "Predicted time taken using model (test set) : [ 6.02016956 12.46170336 14.70856372  5.59945984  6.2344679   5.9084391\n",
      "  6.13455302  4.42394968  5.81374923]\n"
     ]
    }
   ],
   "source": [
    "# printing the actual y values in test data and the predicted y values of the model\n",
    "print(\"Actual time taken (test set) :\", y_test)\n",
    "print(\"Predicted time taken using model (test set) :\"  ,pred)"
   ]
  },
  {
   "cell_type": "code",
   "execution_count": 23,
   "id": "880e00a9",
   "metadata": {},
   "outputs": [
    {
     "name": "stdout",
     "output_type": "stream",
     "text": [
      "Mean Squared Error (our model using PoissonRegression) :  3.7827104859217604\n"
     ]
    }
   ],
   "source": [
    "# se is the squared error\n",
    "se = 0\n",
    "for i in range(len(pred)):\n",
    "    se += (pred[i] - y_test[i])**2\n",
    "\n",
    "# calculating the mean of the squared error\n",
    "mse = se/len(pred)\n",
    "print(\"Mean Squared Error (our model using PoissonRegression) : \"  ,mse)\n"
   ]
  },
  {
   "cell_type": "code",
   "execution_count": 24,
   "id": "32ebb20c",
   "metadata": {},
   "outputs": [
    {
     "name": "stdout",
     "output_type": "stream",
     "text": [
      "Mean Squared Error (inbuilt LinearRegression) :  4.077153952797184\n"
     ]
    }
   ],
   "source": [
    "# Comparing the model which we created with the inbuilt LinearRegression model\n",
    "from sklearn.linear_model import LinearRegression\n",
    "multi_model = LinearRegression()\n",
    "multi_model.fit(X_train,y_train)\n",
    "predi = multi_model.predict(X_test)\n",
    "se = 0\n",
    "for i in range(len(predi)):\n",
    "    se += (predi[i] - y_test[i])**2\n",
    "\n",
    "mse = se/len(predi)\n",
    "print(\"Mean Squared Error (inbuilt LinearRegression) : \"  ,mse)\n"
   ]
  }
 ],
 "metadata": {
  "kernelspec": {
   "display_name": "Python 3 (ipykernel)",
   "language": "python",
   "name": "python3"
  },
  "language_info": {
   "codemirror_mode": {
    "name": "ipython",
    "version": 3
   },
   "file_extension": ".py",
   "mimetype": "text/x-python",
   "name": "python",
   "nbconvert_exporter": "python",
   "pygments_lexer": "ipython3",
   "version": "3.9.5"
  }
 },
 "nbformat": 4,
 "nbformat_minor": 5
}
